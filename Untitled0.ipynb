{
  "nbformat": 4,
  "nbformat_minor": 0,
  "metadata": {
    "colab": {
      "name": "Untitled0.ipynb",
      "provenance": [],
      "collapsed_sections": []
    },
    "kernelspec": {
      "name": "python3",
      "display_name": "Python 3"
    },
    "accelerator": "TPU"
  },
  "cells": [
    {
      "cell_type": "code",
      "metadata": {
        "id": "2vgTMHAyJHJf"
      },
      "source": [
        "!pip install -U -q PyDrive\n",
        "from pydrive.auth import GoogleAuth\n",
        "from pydrive.drive import GoogleDrive\n",
        "from google.colab import auth\n",
        "from oauth2client.client import GoogleCredentials\n"
      ],
      "execution_count": null,
      "outputs": []
    },
    {
      "cell_type": "code",
      "metadata": {
        "id": "VCAodI1HueUh"
      },
      "source": [
        "\n",
        "auth.authenticate_user()\n",
        "gauth = GoogleAuth()\n",
        "gauth.credentials = GoogleCredentials.get_application_default()\n",
        "drive = GoogleDrive(gauth)"
      ],
      "execution_count": null,
      "outputs": []
    },
    {
      "cell_type": "code",
      "metadata": {
        "id": "NvjfgGYmjZBC"
      },
      "source": [
        "#2.1 Get the file\n",
        "downloaded = drive.CreateFile({'id':'1a8Wpki95uhXfrKmuLRCBrBUT4SCwTMDb'}) # replace the id with id of file you want to access\n",
        "downloaded.GetContentFile('train-balanced-sarcasm.csv')"
      ],
      "execution_count": null,
      "outputs": []
    },
    {
      "cell_type": "code",
      "metadata": {
        "id": "mMdJ-Q4QjZ7u",
        "colab": {
          "base_uri": "https://localhost:8080/",
          "height": 119
        },
        "outputId": "aea0d693-66f3-4d6b-d772-fa6a26244ce3"
      },
      "source": [
        "import pandas as pd\n",
        "import numpy as np\n",
        "import nltk\n",
        "import re\n",
        "nltk.download('punkt')\n",
        "nltk.download('stopwords')\n",
        "nltk.download('wordnet')\n",
        "  \n",
        "\n",
        "from nltk.stem import WordNetLemmatizer   "
      ],
      "execution_count": null,
      "outputs": [
        {
          "output_type": "stream",
          "text": [
            "[nltk_data] Downloading package punkt to /root/nltk_data...\n",
            "[nltk_data]   Unzipping tokenizers/punkt.zip.\n",
            "[nltk_data] Downloading package stopwords to /root/nltk_data...\n",
            "[nltk_data]   Unzipping corpora/stopwords.zip.\n",
            "[nltk_data] Downloading package wordnet to /root/nltk_data...\n",
            "[nltk_data]   Unzipping corpora/wordnet.zip.\n"
          ],
          "name": "stdout"
        }
      ]
    },
    {
      "cell_type": "code",
      "metadata": {
        "id": "iMW3h6zDkb2d",
        "colab": {
          "base_uri": "https://localhost:8080/",
          "height": 71
        },
        "outputId": "a2d5a76d-a946-4236-a17b-dfa2b1c0c42d"
      },
      "source": [
        "# import libraries\n",
        "from scipy.sparse import hstack \n",
        "from sklearn.linear_model import LogisticRegression\n",
        "import matplotlib.pyplot as plt\n",
        "import seaborn as sns\n",
        "sns.set(style=\"whitegrid\")\n",
        "import re\n",
        "from nltk.stem import PorterStemmer\n",
        "from nltk.corpus import stopwords\n",
        "import warnings\n",
        "from sklearn.feature_extraction.text import TfidfVectorizer, CountVectorizer \n",
        "from sklearn.ensemble import RandomForestClassifier\n",
        "from sklearn.model_selection import train_test_split\n",
        "from sklearn.preprocessing import OneHotEncoder, StandardScaler\n",
        "from sklearn.metrics import classification_report, confusion_matrix, accuracy_score\n",
        "from sklearn.metrics import precision_recall_fscore_support\n",
        "import pickle\n",
        "warnings.filterwarnings('ignore')\n",
        "from nltk.stem import WordNetLemmatizer\n",
        "from sklearn.metrics import confusion_matrix\n",
        "from sklearn.model_selection import RandomizedSearchCV, GridSearchCV"
      ],
      "execution_count": null,
      "outputs": [
        {
          "output_type": "stream",
          "text": [
            "/usr/local/lib/python3.6/dist-packages/statsmodels/tools/_testing.py:19: FutureWarning: pandas.util.testing is deprecated. Use the functions in the public API at pandas.testing instead.\n",
            "  import pandas.util.testing as tm\n"
          ],
          "name": "stderr"
        }
      ]
    },
    {
      "cell_type": "code",
      "metadata": {
        "id": "-EE2Kl07uhvE"
      },
      "source": [
        "df=pd.read_csv('train-balanced-sarcasm.csv')"
      ],
      "execution_count": null,
      "outputs": []
    },
    {
      "cell_type": "code",
      "metadata": {
        "id": "zwOqDO3MiAYQ",
        "colab": {
          "base_uri": "https://localhost:8080/",
          "height": 289
        },
        "outputId": "0131dfff-849d-423e-9559-b68e87ac5654"
      },
      "source": [
        "df.head()"
      ],
      "execution_count": null,
      "outputs": [
        {
          "output_type": "execute_result",
          "data": {
            "text/html": [
              "<div>\n",
              "<style scoped>\n",
              "    .dataframe tbody tr th:only-of-type {\n",
              "        vertical-align: middle;\n",
              "    }\n",
              "\n",
              "    .dataframe tbody tr th {\n",
              "        vertical-align: top;\n",
              "    }\n",
              "\n",
              "    .dataframe thead th {\n",
              "        text-align: right;\n",
              "    }\n",
              "</style>\n",
              "<table border=\"1\" class=\"dataframe\">\n",
              "  <thead>\n",
              "    <tr style=\"text-align: right;\">\n",
              "      <th></th>\n",
              "      <th>label</th>\n",
              "      <th>comment</th>\n",
              "      <th>author</th>\n",
              "      <th>subreddit</th>\n",
              "      <th>score</th>\n",
              "      <th>ups</th>\n",
              "      <th>downs</th>\n",
              "      <th>date</th>\n",
              "      <th>created_utc</th>\n",
              "      <th>parent_comment</th>\n",
              "    </tr>\n",
              "  </thead>\n",
              "  <tbody>\n",
              "    <tr>\n",
              "      <th>0</th>\n",
              "      <td>0</td>\n",
              "      <td>NC and NH.</td>\n",
              "      <td>Trumpbart</td>\n",
              "      <td>politics</td>\n",
              "      <td>2</td>\n",
              "      <td>-1</td>\n",
              "      <td>-1</td>\n",
              "      <td>2016-10</td>\n",
              "      <td>2016-10-16 23:55:23</td>\n",
              "      <td>Yeah, I get that argument. At this point, I'd ...</td>\n",
              "    </tr>\n",
              "    <tr>\n",
              "      <th>1</th>\n",
              "      <td>0</td>\n",
              "      <td>You do know west teams play against west teams...</td>\n",
              "      <td>Shbshb906</td>\n",
              "      <td>nba</td>\n",
              "      <td>-4</td>\n",
              "      <td>-1</td>\n",
              "      <td>-1</td>\n",
              "      <td>2016-11</td>\n",
              "      <td>2016-11-01 00:24:10</td>\n",
              "      <td>The blazers and Mavericks (The wests 5 and 6 s...</td>\n",
              "    </tr>\n",
              "    <tr>\n",
              "      <th>2</th>\n",
              "      <td>0</td>\n",
              "      <td>They were underdogs earlier today, but since G...</td>\n",
              "      <td>Creepeth</td>\n",
              "      <td>nfl</td>\n",
              "      <td>3</td>\n",
              "      <td>3</td>\n",
              "      <td>0</td>\n",
              "      <td>2016-09</td>\n",
              "      <td>2016-09-22 21:45:37</td>\n",
              "      <td>They're favored to win.</td>\n",
              "    </tr>\n",
              "    <tr>\n",
              "      <th>3</th>\n",
              "      <td>0</td>\n",
              "      <td>This meme isn't funny none of the \"new york ni...</td>\n",
              "      <td>icebrotha</td>\n",
              "      <td>BlackPeopleTwitter</td>\n",
              "      <td>-8</td>\n",
              "      <td>-1</td>\n",
              "      <td>-1</td>\n",
              "      <td>2016-10</td>\n",
              "      <td>2016-10-18 21:03:47</td>\n",
              "      <td>deadass don't kill my buzz</td>\n",
              "    </tr>\n",
              "    <tr>\n",
              "      <th>4</th>\n",
              "      <td>0</td>\n",
              "      <td>I could use one of those tools.</td>\n",
              "      <td>cush2push</td>\n",
              "      <td>MaddenUltimateTeam</td>\n",
              "      <td>6</td>\n",
              "      <td>-1</td>\n",
              "      <td>-1</td>\n",
              "      <td>2016-12</td>\n",
              "      <td>2016-12-30 17:00:13</td>\n",
              "      <td>Yep can confirm I saw the tool they use for th...</td>\n",
              "    </tr>\n",
              "  </tbody>\n",
              "</table>\n",
              "</div>"
            ],
            "text/plain": [
              "   label  ...                                     parent_comment\n",
              "0      0  ...  Yeah, I get that argument. At this point, I'd ...\n",
              "1      0  ...  The blazers and Mavericks (The wests 5 and 6 s...\n",
              "2      0  ...                            They're favored to win.\n",
              "3      0  ...                         deadass don't kill my buzz\n",
              "4      0  ...  Yep can confirm I saw the tool they use for th...\n",
              "\n",
              "[5 rows x 10 columns]"
            ]
          },
          "metadata": {
            "tags": []
          },
          "execution_count": 8
        }
      ]
    },
    {
      "cell_type": "code",
      "metadata": {
        "id": "wXa5Wuw8LF8r",
        "colab": {
          "base_uri": "https://localhost:8080/",
          "height": 34
        },
        "outputId": "037d76d6-d519-4163-f6a1-80b562f1f4b4"
      },
      "source": [
        "# pick a subset of entire data to test the pipeline\n",
        "subset_ratio = 0.05\n",
        "subset_df = df[:int(df.shape[0] * subset_ratio)]\n",
        "print('Dimensions of subset:', subset_df.shape)"
      ],
      "execution_count": null,
      "outputs": [
        {
          "output_type": "stream",
          "text": [
            "Dimensions of subset: (50541, 10)\n"
          ],
          "name": "stdout"
        }
      ]
    },
    {
      "cell_type": "code",
      "metadata": {
        "id": "5i-ro-1mlDIG",
        "colab": {
          "base_uri": "https://localhost:8080/",
          "height": 34
        },
        "outputId": "f1a65297-0f94-4560-ecfe-87a57f104c1f"
      },
      "source": [
        "# check if there are any missing values in data\n",
        "print('Missing values in data:', subset_df.isnull().values.any())"
      ],
      "execution_count": null,
      "outputs": [
        {
          "output_type": "stream",
          "text": [
            "Missing values in data: False\n"
          ],
          "name": "stdout"
        }
      ]
    },
    {
      "cell_type": "code",
      "metadata": {
        "id": "tR2HmBrjlL-_",
        "colab": {
          "base_uri": "https://localhost:8080/",
          "height": 68
        },
        "outputId": "e56dfa9f-7bf6-4b5a-d62e-c0c4e0b3fd37"
      },
      "source": [
        "data = subset_df.dropna()\n",
        "print('No. of rows before removing missing vals:', subset_df.shape[0])\n",
        "print('No. of after removing missing vals:', subset_df.shape[0])\n",
        "print('No. of rows removed:', subset_df.shape[0] - data.shape[0])"
      ],
      "execution_count": null,
      "outputs": [
        {
          "output_type": "stream",
          "text": [
            "No. of rows before removing missing vals: 50541\n",
            "No. of after removing missing vals: 50541\n",
            "No. of rows removed: 0\n"
          ],
          "name": "stdout"
        }
      ]
    },
    {
      "cell_type": "code",
      "metadata": {
        "id": "jwD7i46xHXkt",
        "colab": {
          "base_uri": "https://localhost:8080/",
          "height": 204
        },
        "outputId": "aecbb073-8c48-4fa6-bf5e-ebd0b09bd979"
      },
      "source": [
        "data.isnull().sum()"
      ],
      "execution_count": null,
      "outputs": [
        {
          "output_type": "execute_result",
          "data": {
            "text/plain": [
              "label             0\n",
              "comment           0\n",
              "author            0\n",
              "subreddit         0\n",
              "score             0\n",
              "ups               0\n",
              "downs             0\n",
              "date              0\n",
              "created_utc       0\n",
              "parent_comment    0\n",
              "dtype: int64"
            ]
          },
          "metadata": {
            "tags": []
          },
          "execution_count": 12
        }
      ]
    },
    {
      "cell_type": "code",
      "metadata": {
        "id": "A_mwebSilMO3",
        "colab": {
          "base_uri": "https://localhost:8080/",
          "height": 51
        },
        "outputId": "51a7ae18-943d-45e9-98c3-69016d383305"
      },
      "source": [
        "# check the distribution of sarcastic vs. non-sarcastic comments\n",
        "print('No. of Non-sarcastic comments(0):', data[data['label'] == 0].shape[0])\n",
        "print('No. of Sarcastic comments(1):', data[data['label'] == 1].shape[0])"
      ],
      "execution_count": null,
      "outputs": [
        {
          "output_type": "stream",
          "text": [
            "No. of Non-sarcastic comments(0): 29716\n",
            "No. of Sarcastic comments(1): 20825\n"
          ],
          "name": "stdout"
        }
      ]
    },
    {
      "cell_type": "code",
      "metadata": {
        "id": "_FCF2k1AlMfv"
      },
      "source": [
        "# basic text preprocessing of data\n",
        "cols = ['comment', 'subreddit', 'parent_comment']\n",
        "#stemmer = PorterStemmer()\n",
        "lemmatizer = WordNetLemmatizer() \n",
        "stopwords = stopwords.words('english')\n",
        "\n",
        "for c in cols:\n",
        "    # remove special characters\n",
        "    data[c] = data[c].map(lambda x: re.sub(r'\\W', ' ', x))\n",
        "\n",
        "    # replace multiple spaces with single space \n",
        "    data[c] = data[c].map(lambda x: re.sub(r'\\s+', ' ', x, flags=re.I))\n",
        "\n",
        "    # remove all single characters\n",
        "    data[c] = data[c].map(lambda x:re.sub(r'\\s+[a-zA-Z]\\s+', ' ', x))\n",
        "\n",
        "    # covert text to lower case\n",
        "    data[c] = data[c].str.lower()\n",
        "\n",
        "    # tokenize text\n",
        "    data[c] = data[c].str.split()\n",
        "\n",
        "    # apply stemming\n",
        "    data[c] = data[c].map(lambda x: ' '.join([lemmatizer.lemmatize(w) for w in x if w not in stopwords]))"
      ],
      "execution_count": null,
      "outputs": []
    },
    {
      "cell_type": "code",
      "metadata": {
        "id": "pQsIrj2BlgIl"
      },
      "source": [
        "# generate tf-idf vectors for comment column \n",
        "tfidf_comment = CountVectorizer(ngram_range=(1, 2), max_features=50000)\n",
        "comment_features_tfidf = tfidf_comment.fit_transform(data['comment'])"
      ],
      "execution_count": null,
      "outputs": []
    },
    {
      "cell_type": "code",
      "metadata": {
        "id": "AKpcu8H_z5Np"
      },
      "source": [
        "# generate tf-idf vectors for subreddit column \n",
        "tfidf_subreddit = CountVectorizer(ngram_range=(1, 2), max_features=50000)\n",
        "subreddit_features_tfidf = tfidf_subreddit.fit_transform(data['subreddit'])"
      ],
      "execution_count": null,
      "outputs": []
    },
    {
      "cell_type": "code",
      "metadata": {
        "id": "3pzu8D5Pluny"
      },
      "source": [
        "# generate tf-idf vectors for parent_comment column \n",
        "tfidf_parent_comment = CountVectorizer(ngram_range=(1, 2), max_features=50000)\n",
        "parent_comment_features_tfidf = tfidf_parent_comment.fit_transform(data['parent_comment'])"
      ],
      "execution_count": null,
      "outputs": []
    },
    {
      "cell_type": "code",
      "metadata": {
        "id": "lCpo_fgml4On"
      },
      "source": [
        "# standardize continous variables\n",
        "scaler = StandardScaler()\n",
        "score = scaler.fit_transform(data[['score', 'ups', 'downs']]) "
      ],
      "execution_count": null,
      "outputs": []
    },
    {
      "cell_type": "code",
      "metadata": {
        "id": "kWc_XmIel42Q",
        "colab": {
          "base_uri": "https://localhost:8080/",
          "height": 34
        },
        "outputId": "1d4f34cb-8bc3-4249-90d5-8adb6b30430f"
      },
      "source": [
        "# stack up all the sparse features matrices horrizontally \n",
        "y_tfidf = data['label']\n",
        "X_tfidf = hstack([comment_features_tfidf, subreddit_features_tfidf, parent_comment_features_tfidf,score])\n",
        "print(X_tfidf.shape, y_tfidf.shape)"
      ],
      "execution_count": null,
      "outputs": [
        {
          "output_type": "stream",
          "text": [
            "(50541, 104040) (50541,)\n"
          ],
          "name": "stdout"
        }
      ]
    },
    {
      "cell_type": "code",
      "metadata": {
        "id": "R6Pu6zpRlufn",
        "colab": {
          "base_uri": "https://localhost:8080/",
          "height": 51
        },
        "outputId": "afba71a4-b0f5-4aeb-fc50-b624e025fdc1"
      },
      "source": [
        "# train test split\n",
        "X_train_tfidf, X_test_tfidf, y_train_tfidf, y_test_tfidf = train_test_split(X_tfidf, y_tfidf, test_size=0.2, random_state=100)\n",
        "print(\"Dimensions of train set with TF-IDF Features\", X_train_tfidf.shape)\n",
        "print(\"Dimensions of validation set with TF-IDF Features\", X_test_tfidf.shape)"
      ],
      "execution_count": null,
      "outputs": [
        {
          "output_type": "stream",
          "text": [
            "Dimensions of train set with TF-IDF Features (40432, 104040)\n",
            "Dimensions of validation set with TF-IDF Features (10109, 104040)\n"
          ],
          "name": "stdout"
        }
      ]
    },
    {
      "cell_type": "code",
      "metadata": {
        "id": "xTs84f2RMzX9",
        "colab": {
          "base_uri": "https://localhost:8080/",
          "height": 119
        },
        "outputId": "6ca5dea7-7fcb-4cc3-a852-5d13b1e2f7ed"
      },
      "source": [
        "from sklearn.tree import DecisionTreeClassifier\n",
        "dtree=DecisionTreeClassifier(criterion='gini',max_depth=5)\n",
        "dtree.fit(X_train_tfidf, y_train_tfidf)"
      ],
      "execution_count": null,
      "outputs": [
        {
          "output_type": "execute_result",
          "data": {
            "text/plain": [
              "DecisionTreeClassifier(ccp_alpha=0.0, class_weight=None, criterion='gini',\n",
              "                       max_depth=5, max_features=None, max_leaf_nodes=None,\n",
              "                       min_impurity_decrease=0.0, min_impurity_split=None,\n",
              "                       min_samples_leaf=1, min_samples_split=2,\n",
              "                       min_weight_fraction_leaf=0.0, presort='deprecated',\n",
              "                       random_state=None, splitter='best')"
            ]
          },
          "metadata": {
            "tags": []
          },
          "execution_count": 21
        }
      ]
    },
    {
      "cell_type": "code",
      "metadata": {
        "id": "EJdnRVz0Mzm5",
        "colab": {
          "base_uri": "https://localhost:8080/",
          "height": 51
        },
        "outputId": "b3af83d4-439b-4ae3-d841-45273f0f1c89"
      },
      "source": [
        "# print accuracy on train and test sets\n",
        "print(\"Model Accuracy on Training Set:\", round(accuracy_score(y_train_tfidf, dtree.predict(X_train_tfidf)), 3))\n",
        "print(\"Model Accuracy on Test Set:\", round(accuracy_score(y_test_tfidf, dtree.predict(X_test_tfidf)), 3))"
      ],
      "execution_count": null,
      "outputs": [
        {
          "output_type": "stream",
          "text": [
            "Model Accuracy on Training Set: 0.623\n",
            "Model Accuracy on Test Set: 0.623\n"
          ],
          "name": "stdout"
        }
      ]
    },
    {
      "cell_type": "code",
      "metadata": {
        "id": "yVbfAHyxNTqt",
        "colab": {
          "base_uri": "https://localhost:8080/",
          "height": 238
        },
        "outputId": "ae5f70e9-3a1d-4d75-b43d-b71beb11c6ae"
      },
      "source": [
        "# make predictions on test set and print performance metrics\n",
        "print(\"Classification Report on Test Set:\\n\")\n",
        "print(classification_report(y_test_tfidf, dtree.predict(X_test_tfidf)))\n",
        "print(confusion_matrix(y_test_tfidf, dtree.predict(X_test_tfidf)))"
      ],
      "execution_count": null,
      "outputs": [
        {
          "output_type": "stream",
          "text": [
            "Classification Report on Test Set:\n",
            "\n",
            "              precision    recall  f1-score   support\n",
            "\n",
            "           0       0.63      0.87      0.73      5960\n",
            "           1       0.59      0.26      0.37      4149\n",
            "\n",
            "    accuracy                           0.62     10109\n",
            "   macro avg       0.61      0.57      0.55     10109\n",
            "weighted avg       0.61      0.62      0.58     10109\n",
            "\n",
            "[[5196  764]\n",
            " [3050 1099]]\n"
          ],
          "name": "stdout"
        }
      ]
    },
    {
      "cell_type": "code",
      "metadata": {
        "id": "niE7EcdKTt0j",
        "colab": {
          "base_uri": "https://localhost:8080/",
          "height": 153
        },
        "outputId": "79b74f58-79a9-4d02-c2e0-b56b6650632d"
      },
      "source": [
        "rfc_tfidf = RandomForestClassifier(bootstrap=True, ccp_alpha=0.0,\n",
        "                       criterion='gini', max_depth=100, max_features='auto',\n",
        "                       max_leaf_nodes=None, max_samples=None,\n",
        "                       min_impurity_decrease=0.0, min_impurity_split=None,\n",
        "                       min_samples_leaf=10, min_samples_split=10,\n",
        "                       min_weight_fraction_leaf=0.0, n_estimators=1600,\n",
        "                       n_jobs=-1, oob_score=False, random_state=None,\n",
        "                       verbose=0, warm_start=False)\n",
        "rfc_tfidf.fit(X_train_tfidf, y_train_tfidf)"
      ],
      "execution_count": null,
      "outputs": [
        {
          "output_type": "execute_result",
          "data": {
            "text/plain": [
              "RandomForestClassifier(bootstrap=True, ccp_alpha=0.0, class_weight=None,\n",
              "                       criterion='gini', max_depth=100, max_features='auto',\n",
              "                       max_leaf_nodes=None, max_samples=None,\n",
              "                       min_impurity_decrease=0.0, min_impurity_split=None,\n",
              "                       min_samples_leaf=10, min_samples_split=10,\n",
              "                       min_weight_fraction_leaf=0.0, n_estimators=1600,\n",
              "                       n_jobs=-1, oob_score=False, random_state=None, verbose=0,\n",
              "                       warm_start=False)"
            ]
          },
          "metadata": {
            "tags": []
          },
          "execution_count": 24
        }
      ]
    },
    {
      "cell_type": "code",
      "metadata": {
        "id": "I7dwytFHWUBs",
        "colab": {
          "base_uri": "https://localhost:8080/",
          "height": 51
        },
        "outputId": "8acc6a9d-38b7-4486-a1e0-3f395c00ebaf"
      },
      "source": [
        "# print accuracy on train and test sets\n",
        "print(\"Model Accuracy on Training Set:\", round(accuracy_score(y_train_tfidf, rfc_tfidf.predict(X_train_tfidf)), 3))\n",
        "print(\"Model Accuracy on Test Set:\", round(accuracy_score(y_test_tfidf, rfc_tfidf.predict(X_test_tfidf)), 3))"
      ],
      "execution_count": null,
      "outputs": [
        {
          "output_type": "stream",
          "text": [
            "Model Accuracy on Training Set: 0.642\n",
            "Model Accuracy on Test Set: 0.63\n"
          ],
          "name": "stdout"
        }
      ]
    },
    {
      "cell_type": "code",
      "metadata": {
        "id": "bwgGh0ySWUf0",
        "colab": {
          "base_uri": "https://localhost:8080/",
          "height": 238
        },
        "outputId": "3e7058a9-971e-4af1-f8bd-ce973e4799d5"
      },
      "source": [
        "# make predictions on test set and print performance metrics\n",
        "print(\"Classification Report on Test Set:\\n\")\n",
        "print(classification_report(y_test_tfidf, rfc_tfidf.predict(X_test_tfidf)))\n",
        "print(confusion_matrix(y_test_tfidf, rfc_tfidf.predict(X_test_tfidf)))"
      ],
      "execution_count": null,
      "outputs": [
        {
          "output_type": "stream",
          "text": [
            "Classification Report on Test Set:\n",
            "\n",
            "              precision    recall  f1-score   support\n",
            "\n",
            "           0       0.62      0.98      0.76      5960\n",
            "           1       0.83      0.12      0.22      4149\n",
            "\n",
            "    accuracy                           0.63     10109\n",
            "   macro avg       0.72      0.55      0.49     10109\n",
            "weighted avg       0.70      0.63      0.54     10109\n",
            "\n",
            "[[5852  108]\n",
            " [3632  517]]\n"
          ],
          "name": "stdout"
        }
      ]
    },
    {
      "cell_type": "code",
      "metadata": {
        "id": "RkrGiOXpWUdK",
        "colab": {
          "base_uri": "https://localhost:8080/",
          "height": 289
        },
        "outputId": "d9090f63-3360-4ae1-ee81-2dc194e035f1"
      },
      "source": [
        "from sklearn.ensemble import AdaBoostClassifier\n",
        "\n",
        "clf = AdaBoostClassifier(DecisionTreeClassifier(max_depth=1), n_estimators=500, learning_rate=0.05, random_state=100)\n",
        "clf.fit(X_train_tfidf, y_train_tfidf)"
      ],
      "execution_count": null,
      "outputs": [
        {
          "output_type": "execute_result",
          "data": {
            "text/plain": [
              "AdaBoostClassifier(algorithm='SAMME.R',\n",
              "                   base_estimator=DecisionTreeClassifier(ccp_alpha=0.0,\n",
              "                                                         class_weight=None,\n",
              "                                                         criterion='gini',\n",
              "                                                         max_depth=1,\n",
              "                                                         max_features=None,\n",
              "                                                         max_leaf_nodes=None,\n",
              "                                                         min_impurity_decrease=0.0,\n",
              "                                                         min_impurity_split=None,\n",
              "                                                         min_samples_leaf=1,\n",
              "                                                         min_samples_split=2,\n",
              "                                                         min_weight_fraction_leaf=0.0,\n",
              "                                                         presort='deprecated',\n",
              "                                                         random_state=None,\n",
              "                                                         splitter='best'),\n",
              "                   learning_rate=0.05, n_estimators=500, random_state=100)"
            ]
          },
          "metadata": {
            "tags": []
          },
          "execution_count": 27
        }
      ]
    },
    {
      "cell_type": "code",
      "metadata": {
        "id": "Ab3XU2I_WUaf",
        "colab": {
          "base_uri": "https://localhost:8080/",
          "height": 51
        },
        "outputId": "1e659dad-9574-4841-e710-d5f4c0386967"
      },
      "source": [
        "# print accuracy on train and test sets\n",
        "print(\"Model Accuracy on Training Set:\", round(accuracy_score(y_train_tfidf, clf.predict(X_train_tfidf)), 3))\n",
        "print(\"Model Accuracy on Test Set:\", round(accuracy_score(y_test_tfidf, clf.predict(X_test_tfidf)), 3))"
      ],
      "execution_count": null,
      "outputs": [
        {
          "output_type": "stream",
          "text": [
            "Model Accuracy on Training Set: 0.641\n",
            "Model Accuracy on Test Set: 0.641\n"
          ],
          "name": "stdout"
        }
      ]
    },
    {
      "cell_type": "code",
      "metadata": {
        "id": "8WsSCcGtWUXl",
        "colab": {
          "base_uri": "https://localhost:8080/",
          "height": 238
        },
        "outputId": "0c1cdff4-a5fc-401b-f436-87320de6d78d"
      },
      "source": [
        "# make predictions on test set and print performance metrics\n",
        "print(\"Classification Report on Test Set:\\n\")\n",
        "print(classification_report(y_test_tfidf, clf.predict(X_test_tfidf)))\n",
        "print(confusion_matrix(y_test_tfidf, clf.predict(X_test_tfidf)))"
      ],
      "execution_count": null,
      "outputs": [
        {
          "output_type": "stream",
          "text": [
            "Classification Report on Test Set:\n",
            "\n",
            "              precision    recall  f1-score   support\n",
            "\n",
            "           0       0.63      0.95      0.76      5960\n",
            "           1       0.73      0.20      0.31      4149\n",
            "\n",
            "    accuracy                           0.64     10109\n",
            "   macro avg       0.68      0.57      0.53     10109\n",
            "weighted avg       0.67      0.64      0.57     10109\n",
            "\n",
            "[[5655  305]\n",
            " [3328  821]]\n"
          ],
          "name": "stdout"
        }
      ]
    },
    {
      "cell_type": "code",
      "metadata": {
        "id": "Cvp0UzyxWUUp",
        "colab": {
          "base_uri": "https://localhost:8080/",
          "height": 68
        },
        "outputId": "91ec8811-a64a-4b90-a36e-bf91c71c3ec0"
      },
      "source": [
        "!pip install xgboost"
      ],
      "execution_count": null,
      "outputs": [
        {
          "output_type": "stream",
          "text": [
            "Requirement already satisfied: xgboost in /usr/local/lib/python3.6/dist-packages (0.90)\n",
            "Requirement already satisfied: numpy in /usr/local/lib/python3.6/dist-packages (from xgboost) (1.18.5)\n",
            "Requirement already satisfied: scipy in /usr/local/lib/python3.6/dist-packages (from xgboost) (1.4.1)\n"
          ],
          "name": "stdout"
        }
      ]
    },
    {
      "cell_type": "code",
      "metadata": {
        "id": "7DPdwu20WUSX",
        "colab": {
          "base_uri": "https://localhost:8080/",
          "height": 136
        },
        "outputId": "35a60783-4c35-4b34-e8d2-a0e63ade5622"
      },
      "source": [
        "import xgboost\n",
        "xgclassifier=xgboost.XGBClassifier(colsample_bytree=0.7,gamma=0.2,learning_rate=0.3,max_depth=10,min_child_weight=5)\n",
        "xgclassifier.fit(X_train_tfidf, y_train_tfidf)"
      ],
      "execution_count": null,
      "outputs": [
        {
          "output_type": "execute_result",
          "data": {
            "text/plain": [
              "XGBClassifier(base_score=0.5, booster='gbtree', colsample_bylevel=1,\n",
              "              colsample_bynode=1, colsample_bytree=0.7, gamma=0.2,\n",
              "              learning_rate=0.3, max_delta_step=0, max_depth=10,\n",
              "              min_child_weight=5, missing=None, n_estimators=100, n_jobs=1,\n",
              "              nthread=None, objective='binary:logistic', random_state=0,\n",
              "              reg_alpha=0, reg_lambda=1, scale_pos_weight=1, seed=None,\n",
              "              silent=None, subsample=1, verbosity=1)"
            ]
          },
          "metadata": {
            "tags": []
          },
          "execution_count": 31
        }
      ]
    },
    {
      "cell_type": "code",
      "metadata": {
        "id": "WbX8E1Zh2Nmh",
        "colab": {
          "base_uri": "https://localhost:8080/",
          "height": 51
        },
        "outputId": "10c19cc4-ea4e-4242-f904-667ec0936c61"
      },
      "source": [
        "print(\"Model Accuracy on Training Set:\", round(accuracy_score(y_train_tfidf, xgclassifier.predict(X_train_tfidf)), 3))\n",
        "print(\"Model Accuracy on Test Set:\", round(accuracy_score(y_test_tfidf, xgclassifier.predict(X_test_tfidf)), 3))"
      ],
      "execution_count": null,
      "outputs": [
        {
          "output_type": "stream",
          "text": [
            "Model Accuracy on Training Set: 0.712\n",
            "Model Accuracy on Test Set: 0.674\n"
          ],
          "name": "stdout"
        }
      ]
    },
    {
      "cell_type": "code",
      "metadata": {
        "id": "M_TXd2bK2Nx8",
        "colab": {
          "base_uri": "https://localhost:8080/",
          "height": 238
        },
        "outputId": "5972907f-d679-4b8a-e32d-2f1961624468"
      },
      "source": [
        "# make predictions on test set and print performance metrics\n",
        "print(\"Classification Report on Test Set:\\n\")\n",
        "print(classification_report(y_test_tfidf, xgclassifier.predict(X_test_tfidf)))\n",
        "print(confusion_matrix(y_test_tfidf, xgclassifier.predict(X_test_tfidf)))"
      ],
      "execution_count": null,
      "outputs": [
        {
          "output_type": "stream",
          "text": [
            "Classification Report on Test Set:\n",
            "\n",
            "              precision    recall  f1-score   support\n",
            "\n",
            "           0       0.67      0.89      0.76      5960\n",
            "           1       0.69      0.37      0.48      4149\n",
            "\n",
            "    accuracy                           0.67     10109\n",
            "   macro avg       0.68      0.63      0.62     10109\n",
            "weighted avg       0.68      0.67      0.65     10109\n",
            "\n",
            "[[5276  684]\n",
            " [2610 1539]]\n"
          ],
          "name": "stdout"
        }
      ]
    },
    {
      "cell_type": "code",
      "metadata": {
        "id": "8hmWuq7W2Njw",
        "colab": {
          "base_uri": "https://localhost:8080/",
          "height": 487
        },
        "outputId": "6dbd5d3e-d996-466e-bfd0-5e201fb49efe"
      },
      "source": [
        "from sklearn.metrics import roc_curve, auc\n",
        "\n",
        "dtree_fpr, dtree_tpr, threshold = roc_curve( y_test_tfidf , dtree.predict(X_test_tfidf))\n",
        "auc_dtree = auc(dtree_fpr, dtree_tpr)\n",
        "\n",
        "rfc_fpr, rfc_tpr, threshold = roc_curve( y_test_tfidf , rfc_tfidf.predict(X_test_tfidf))\n",
        "auc_rfc = auc(rfc_fpr, rfc_tpr)\n",
        "\n",
        "clf_fpr, clf_tpr, threshold = roc_curve( y_test_tfidf ,  clf.predict(X_test_tfidf))\n",
        "auc_clf = auc(clf_fpr, clf_tpr)\n",
        "\n",
        "xg_fpr, xg_tpr, threshold = roc_curve( y_test_tfidf , xgclassifier.predict(X_test_tfidf))\n",
        "auc_xg = auc(xg_fpr, xg_tpr)\n",
        "\n",
        "plt.figure( dpi=120)\n",
        "plt.plot(dtree_fpr, dtree_tpr,  linestyle='-', label='Decision Tree (auc = %0.3f)' % auc_dtree)\n",
        "plt.plot(rfc_fpr, rfc_tpr, marker='.', label='Random forest (auc = %0.3f)' % auc_rfc)\n",
        "plt.plot(clf_fpr, clf_tpr, marker='.', label='AdaBoost (auc = %0.3f)' % auc_clf)\n",
        "plt.plot(xg_fpr, xg_tpr, marker='.', label='XGBoost (auc = %0.3f)' % auc_xg)\n",
        "\n",
        "plt.xlabel('False Positive Rate -->')\n",
        "plt.ylabel('True Positive Rate -->')\n",
        "\n",
        "plt.plot([0,1],[0,1],'r--')\n",
        "plt.title('ROC Curve')\n",
        "plt.legend(loc=\"lower right\")\n",
        "\n",
        "plt.show()\n"
      ],
      "execution_count": null,
      "outputs": [
        {
          "output_type": "display_data",
          "data": {
            "image/png": "[encoded data removed]",
            "text/plain": [
              "<Figure size 720x480 with 1 Axes>"
            ]
          },
          "metadata": {
            "tags": []
          }
        }
      ]
    }
  ]
}